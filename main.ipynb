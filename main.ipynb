{
  "nbformat": 4,
  "nbformat_minor": 0,
  "metadata": {
    "kernelspec": {
      "display_name": "Python 3",
      "language": "python",
      "name": "python3"
    },
    "language_info": {
      "codemirror_mode": {
        "name": "ipython",
        "version": 3
      },
      "file_extension": ".py",
      "mimetype": "text/x-python",
      "name": "python",
      "nbconvert_exporter": "python",
      "pygments_lexer": "ipython3",
      "version": "3.7.5"
    },
    "colab": {
      "name": "main.ipynb",
      "provenance": []
    }
  },
  "cells": [
    {
      "cell_type": "code",
      "metadata": {
        "id": "mpWmQ-_UZuXn",
        "colab_type": "code",
        "colab": {}
      },
      "source": [
        "# Importing the required Packages\n",
        "import numpy as np\n",
        "import mnist # To get the had digit dataset\n",
        "import matplotlib.pyplot as plt\n",
        "from keras.models import Sequential\n",
        "from keras.layers import Dense\n",
        "from keras.utils import to_categorical"
      ],
      "execution_count": 0,
      "outputs": []
    },
    {
      "cell_type": "code",
      "metadata": {
        "id": "M69MlomxZuYc",
        "colab_type": "code",
        "colab": {}
      },
      "source": [
        "# Loading hadwritten digit dataset\n",
        "\n",
        "# Training Data\n",
        "train_images = mnist.train_images()\n",
        "train_labels = mnist.train_labels()\n",
        "\n",
        "# Testing Data\n",
        "test_images = mnist.test_images()\n",
        "test_labels = mnist.test_labels()"
      ],
      "execution_count": 0,
      "outputs": []
    },
    {
      "cell_type": "code",
      "metadata": {
        "id": "7TcYM8-5ZuYm",
        "colab_type": "code",
        "colab": {
          "base_uri": "https://localhost:8080/",
          "height": 51
        },
        "outputId": "b2e0b98e-f8a2-4ae4-8ce6-fa159d8c9f32"
      },
      "source": [
        "# Normalization of images for easier training of network. \n",
        "# Normalizing Pixel values from [0, 255] -> [-0.5, 0.5]\n",
        "train_images = (train_images/255) - 0.5\n",
        "test_images = (test_images/255) - 0.5\n",
        "\n",
        "# Flattening the images from 28 x 28 into 28^2 = 784 dimensional vector to pass through ANN\n",
        "train_images = train_images.reshape((-1, 784))\n",
        "test_images = test_images.reshape((-1, 784))\n",
        "\n",
        "# Print image shape\n",
        "print(train_images.shape) # 60000 rows & 784 columns\n",
        "print(test_images.shape) # 10000 rows & 784 columns"
      ],
      "execution_count": 8,
      "outputs": [
        {
          "output_type": "stream",
          "text": [
            "(60000, 784)\n",
            "(10000, 784)\n"
          ],
          "name": "stdout"
        }
      ]
    },
    {
      "cell_type": "code",
      "metadata": {
        "id": "MktaM0IbZuYu",
        "colab_type": "code",
        "colab": {}
      },
      "source": [
        ""
      ],
      "execution_count": 0,
      "outputs": []
    }
  ]
}